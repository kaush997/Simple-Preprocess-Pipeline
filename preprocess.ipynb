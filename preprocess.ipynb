{
 "cells": [
  {
   "cell_type": "code",
   "execution_count": 3,
   "id": "ca64d50d-f29d-485c-8ec6-90f25b551d66",
   "metadata": {},
   "outputs": [],
   "source": [
    "import cv2\n",
    "import numpy as np\n",
    "import matplotlib.pyplot as plt"
   ]
  },
  {
   "cell_type": "code",
   "id": "6c1d9204-1dc4-4d68-9674-ee3c483ce3c7",
   "metadata": {},
   "source": [
    "# Function to display an image\n",
    "def plot_image(title, img):\n",
    "    plt.figure(figsize=(6, 6))\n",
    "    plt.imshow(img)\n",
    "    plt.title(title)\n",
    "    plt.axis(\"off\")\n",
    "    plt.show()\n",
    "\n",
    "# Path to your image\n",
    "image_path = r\"Path/to/image\"  # Replace with your image name and extension\n",
    "image = cv2.imread(image_path)\n",
    "\n",
    "# Check if the image is loaded successfully\n",
    "if image is None:\n",
    "    print(\"Error: Image not found or unable to read! Check the path and file.\")\n",
    "else:\n",
    "    # Convert from BGR to RGB for proper visualization\n",
    "    image = cv2.cvtColor(image, cv2.COLOR_BGR2RGB)\n",
    "    plot_image(\"Original Image\", image)"
   ],
   "outputs": [],
   "execution_count": null
  },
  {
   "cell_type": "code",
   "id": "827ee28e-dbbd-4f1e-ba57-67ed23049dad",
   "metadata": {},
   "source": [
    "# 1. Rotation\n",
    "def rotate_image(img, angle=3):\n",
    "    h, w = img.shape[:2]\n",
    "    center = (w // 2, h // 2)\n",
    "    rotation_matrix = cv2.getRotationMatrix2D(center, angle, 1.0)\n",
    "    return cv2.warpAffine(img, rotation_matrix, (w, h))\n",
    "\n",
    "rotated = rotate_image(image, angle=3)\n",
    "plot_image(\"Rotated (3 degrees)\", rotated)\n"
   ],
   "outputs": [],
   "execution_count": null
  },
  {
   "cell_type": "code",
   "id": "45e3263c-a99d-4514-9c25-64fc57658113",
   "metadata": {},
   "source": [
    "# 2. Shift, Scale, Rotate\n",
    "def shift_scale_rotate(img, shift=0.05, scale=1.05, angle=2):\n",
    "    h, w = img.shape[:2]\n",
    "    center = (w // 2, h // 2)\n",
    "    rotation_matrix = cv2.getRotationMatrix2D(center, angle, scale)\n",
    "    tx, ty = int(w * shift), int(h * shift)\n",
    "    rotation_matrix[0, 2] += tx\n",
    "    rotation_matrix[1, 2] += ty\n",
    "    return cv2.warpAffine(img, rotation_matrix, (w, h))\n",
    "\n",
    "shift_scaled_rotated = shift_scale_rotate(image, shift=0.05, scale=1.05, angle=2)\n",
    "plot_image(\"Shift, Scale, Rotate\", shift_scaled_rotated)"
   ],
   "outputs": [],
   "execution_count": null
  },
  {
   "cell_type": "code",
   "id": "153631dd-aa20-444c-8637-8f71bdb3b5d0",
   "metadata": {},
   "source": [
    "# 3. Perspective Transformation\n",
    "def perspective_transform(img, scale=0.05):\n",
    "    h, w = img.shape[:2]\n",
    "    pts1 = np.float32([[0, 0], [w, 0], [0, h], [w, h]])\n",
    "    shift = int(min(w, h) * scale)\n",
    "    pts2 = np.float32([[shift, shift], [w - shift, shift], [shift, h - shift], [w - shift, h - shift]])\n",
    "    matrix = cv2.getPerspectiveTransform(pts1, pts2)\n",
    "    return cv2.warpPerspective(img, matrix, (w, h))\n",
    "\n",
    "perspective = perspective_transform(image, scale=0.05)\n",
    "plot_image(\"Perspective Transform\", perspective)\n"
   ],
   "outputs": [],
   "execution_count": null
  },
  {
   "cell_type": "code",
   "id": "14aa8733-b7e5-4537-b71a-6b9f642a72ac",
   "metadata": {},
   "source": [
    "# 4. Grid Distortion (Using Elastic Transformation)\n",
    "def grid_distortion(img):\n",
    "    h, w = img.shape[:2]\n",
    "    x, y = np.meshgrid(np.arange(w), np.arange(h))\n",
    "    x_distort = x + np.sin(y / 5) * 2\n",
    "    y_distort = y + np.sin(x / 5) * 2\n",
    "    map_x, map_y = x_distort.astype(np.float32), y_distort.astype(np.float32)\n",
    "    return cv2.remap(img, map_x, map_y, interpolation=cv2.INTER_LINEAR, borderMode=cv2.BORDER_REFLECT)\n",
    "\n",
    "grid_distorted = grid_distortion(image)\n",
    "plot_image(\"Grid Distortion\", grid_distorted)"
   ],
   "outputs": [],
   "execution_count": null
  },
  {
   "cell_type": "code",
   "id": "527a1b9d-f3b7-4e27-bbf2-1e5e79adee0c",
   "metadata": {},
   "source": [
    "# 5. Gaussian Blur\n",
    "def gaussian_blur(img, kernel_size=3):\n",
    "    return cv2.GaussianBlur(img, (kernel_size, kernel_size), 0)\n",
    "\n",
    "gaussian_blurred = gaussian_blur(image, kernel_size=3)\n",
    "plot_image(\"Gaussian Blur\", gaussian_blurred)"
   ],
   "outputs": [],
   "execution_count": null
  },
  {
   "cell_type": "code",
   "id": "0007c7ec-b85f-4f9d-b954-73f166d00e27",
   "metadata": {},
   "source": [
    "# 6. Motion Blur\n",
    "def motion_blur(img, kernel_size=5):\n",
    "    kernel = np.zeros((kernel_size, kernel_size))\n",
    "    kernel[:, kernel_size // 2] = 1\n",
    "    kernel = kernel / kernel_size\n",
    "    return cv2.filter2D(img, -1, kernel)\n",
    "\n",
    "motion_blurred = motion_blur(image, kernel_size=5)\n",
    "plot_image(\"Motion Blur\", motion_blurred)"
   ],
   "outputs": [],
   "execution_count": null
  },
  {
   "cell_type": "code",
   "id": "7cdfbaf9-bdb4-486a-8109-b985e4511edb",
   "metadata": {},
   "source": [
    "# 7. ISO Noise\n",
    "def add_iso_noise(img, intensity=0.1):\n",
    "    noise = np.random.normal(0, 255 * intensity, img.shape).astype(np.uint8)\n",
    "    noisy_img = cv2.addWeighted(img, 0.9, noise, 0.1, 0)\n",
    "    return noisy_img\n",
    "\n",
    "iso_noisy = add_iso_noise(image, intensity=0.1)\n",
    "plot_image(\"ISO Noise\", iso_noisy)"
   ],
   "outputs": [],
   "execution_count": null
  },
  {
   "cell_type": "code",
   "id": "d05127b1-04b6-4086-b374-f8d38a857bf0",
   "metadata": {},
   "source": [
    "# 8. Flip\n",
    "def flip_image(img):\n",
    "    return cv2.flip(img, 1)  # Horizontal flip\n",
    "\n",
    "flipped = flip_image(image)\n",
    "plot_image(\"Flipped Image\", flipped)"
   ],
   "outputs": [],
   "execution_count": null
  },
  {
   "cell_type": "code",
   "id": "3ed1051a-8036-4b92-adb7-bc99112c2393",
   "metadata": {},
   "source": [
    "# 9. Brightness and Contrast Adjustment\n",
    "def adjust_brightness_contrast(img, brightness=30, contrast=30):\n",
    "    return cv2.addWeighted(img, 1 + contrast / 100, np.zeros_like(img), 0, brightness)\n",
    "\n",
    "bright_contrast_adjusted = adjust_brightness_contrast(image, brightness=30, contrast=30)\n",
    "plot_image(\"Brightness & Contrast Adjusted\", bright_contrast_adjusted)"
   ],
   "outputs": [],
   "execution_count": null
  },
  {
   "cell_type": "code",
   "id": "c95da790-4025-4c0a-8da2-85f49367d87b",
   "metadata": {},
   "source": [
    "\n",
    "\n",
    "# 10. Hue, Saturation, Value Adjustment\n",
    "def adjust_hue_saturation_value(img, hue=30, saturation=50, value=20):\n",
    "    hsv = cv2.cvtColor(img, cv2.COLOR_RGB2HSV)\n",
    "    h, s, v = cv2.split(hsv)\n",
    "    h = np.clip(h + hue, 0, 179).astype(h.dtype)\n",
    "    s = np.clip(s + saturation, 0, 255).astype(s.dtype)\n",
    "    v = np.clip(v + value, 0, 255).astype(v.dtype)\n",
    "    hsv = cv2.merge((h, s, v))\n",
    "    return cv2.cvtColor(hsv, cv2.COLOR_HSV2RGB)\n",
    "\n",
    "hsv_adjusted = adjust_hue_saturation_value(image, hue=30, saturation=50, value=20)\n",
    "plot_image(\"Hue, Saturation, Value Adjusted\", hsv_adjusted)\n"
   ],
   "outputs": [],
   "execution_count": null
  },
  {
   "cell_type": "code",
   "execution_count": null,
   "id": "5a0f2370-4b7c-46f7-a6f9-99231fe816de",
   "metadata": {},
   "outputs": [],
   "source": []
  }
 ],
 "metadata": {
  "kernelspec": {
   "display_name": "Python 3 (ipykernel)",
   "language": "python",
   "name": "python3"
  },
  "language_info": {
   "codemirror_mode": {
    "name": "ipython",
    "version": 3
   },
   "file_extension": ".py",
   "mimetype": "text/x-python",
   "name": "python",
   "nbconvert_exporter": "python",
   "pygments_lexer": "ipython3",
   "version": "3.11.9"
  }
 },
 "nbformat": 4,
 "nbformat_minor": 5
}
